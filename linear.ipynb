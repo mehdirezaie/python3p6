{
  "nbformat": 4,
  "nbformat_minor": 0,
  "metadata": {
    "colab": {
      "provenance": [],
      "authorship_tag": "ABX9TyN7veLEYwdoRNKfTO6Etsy3",
      "include_colab_link": true
    },
    "kernelspec": {
      "name": "python3",
      "display_name": "Python 3"
    },
    "language_info": {
      "name": "python"
    }
  },
  "cells": [
    {
      "cell_type": "markdown",
      "metadata": {
        "id": "view-in-github",
        "colab_type": "text"
      },
      "source": [
        "<a href=\"https://colab.research.google.com/github/mehdirezaie/python3p6/blob/master/linear.ipynb\" target=\"_parent\"><img src=\"https://colab.research.google.com/assets/colab-badge.svg\" alt=\"Open In Colab\"/></a>"
      ]
    },
    {
      "cell_type": "code",
      "source": [
        "import matplotlib.pyplot as plt"
      ],
      "metadata": {
        "id": "PL_G4YVLRvpC"
      },
      "execution_count": 10,
      "outputs": []
    },
    {
      "cell_type": "code",
      "execution_count": 2,
      "metadata": {
        "id": "AL0z-8m9QtDl"
      },
      "outputs": [],
      "source": [
        "from sklearn.datasets import load_diabetes"
      ]
    },
    {
      "cell_type": "code",
      "source": [
        "data = load_diabetes(scaled=False)"
      ],
      "metadata": {
        "id": "Qxp-vNr_Q3XP"
      },
      "execution_count": 4,
      "outputs": []
    },
    {
      "cell_type": "code",
      "source": [
        "type(data)"
      ],
      "metadata": {
        "colab": {
          "base_uri": "https://localhost:8080/"
        },
        "id": "HcBAq_zFRD3c",
        "outputId": "fdc2c878-5681-4d3c-e10f-6956d91231f2"
      },
      "execution_count": 5,
      "outputs": [
        {
          "output_type": "execute_result",
          "data": {
            "text/plain": [
              "sklearn.utils._bunch.Bunch"
            ]
          },
          "metadata": {},
          "execution_count": 5
        }
      ]
    },
    {
      "cell_type": "code",
      "source": [
        "data['data']"
      ],
      "metadata": {
        "colab": {
          "base_uri": "https://localhost:8080/"
        },
        "id": "jNoDcom-RUPW",
        "outputId": "85a05326-24fa-4a44-b839-af29ff0dd5c2"
      },
      "execution_count": 6,
      "outputs": [
        {
          "output_type": "execute_result",
          "data": {
            "text/plain": [
              "array([[59.    ,  2.    , 32.1   , ...,  4.    ,  4.8598, 87.    ],\n",
              "       [48.    ,  1.    , 21.6   , ...,  3.    ,  3.8918, 69.    ],\n",
              "       [72.    ,  2.    , 30.5   , ...,  4.    ,  4.6728, 85.    ],\n",
              "       ...,\n",
              "       [60.    ,  2.    , 24.9   , ...,  3.77  ,  4.1271, 95.    ],\n",
              "       [36.    ,  1.    , 30.    , ...,  4.79  ,  5.1299, 85.    ],\n",
              "       [36.    ,  1.    , 19.6   , ...,  3.    ,  4.5951, 92.    ]])"
            ]
          },
          "metadata": {},
          "execution_count": 6
        }
      ]
    },
    {
      "cell_type": "code",
      "source": [
        "print(data['DESCR'])"
      ],
      "metadata": {
        "colab": {
          "base_uri": "https://localhost:8080/"
        },
        "id": "rQtb-vVvRWRB",
        "outputId": "4b1eadb7-93e3-42b9-a5c7-8f3e06e55c0f"
      },
      "execution_count": 8,
      "outputs": [
        {
          "output_type": "stream",
          "name": "stdout",
          "text": [
            ".. _diabetes_dataset:\n",
            "\n",
            "Diabetes dataset\n",
            "----------------\n",
            "\n",
            "Ten baseline variables, age, sex, body mass index, average blood\n",
            "pressure, and six blood serum measurements were obtained for each of n =\n",
            "442 diabetes patients, as well as the response of interest, a\n",
            "quantitative measure of disease progression one year after baseline.\n",
            "\n",
            "**Data Set Characteristics:**\n",
            "\n",
            "  :Number of Instances: 442\n",
            "\n",
            "  :Number of Attributes: First 10 columns are numeric predictive values\n",
            "\n",
            "  :Target: Column 11 is a quantitative measure of disease progression one year after baseline\n",
            "\n",
            "  :Attribute Information:\n",
            "      - age     age in years\n",
            "      - sex\n",
            "      - bmi     body mass index\n",
            "      - bp      average blood pressure\n",
            "      - s1      tc, total serum cholesterol\n",
            "      - s2      ldl, low-density lipoproteins\n",
            "      - s3      hdl, high-density lipoproteins\n",
            "      - s4      tch, total cholesterol / HDL\n",
            "      - s5      ltg, possibly log of serum triglycerides level\n",
            "      - s6      glu, blood sugar level\n",
            "\n",
            "Note: Each of these 10 feature variables have been mean centered and scaled by the standard deviation times the square root of `n_samples` (i.e. the sum of squares of each column totals 1).\n",
            "\n",
            "Source URL:\n",
            "https://www4.stat.ncsu.edu/~boos/var.select/diabetes.html\n",
            "\n",
            "For more information see:\n",
            "Bradley Efron, Trevor Hastie, Iain Johnstone and Robert Tibshirani (2004) \"Least Angle Regression,\" Annals of Statistics (with discussion), 407-499.\n",
            "(https://web.stanford.edu/~hastie/Papers/LARS/LeastAngle_2002.pdf)\n",
            "\n"
          ]
        }
      ]
    },
    {
      "cell_type": "code",
      "source": [
        "data['target']"
      ],
      "metadata": {
        "colab": {
          "base_uri": "https://localhost:8080/"
        },
        "id": "zJSMXN0KRai-",
        "outputId": "77e021a8-b76f-4872-e1ba-6c5d20111cf9"
      },
      "execution_count": 9,
      "outputs": [
        {
          "output_type": "execute_result",
          "data": {
            "text/plain": [
              "array([151.,  75., 141., 206., 135.,  97., 138.,  63., 110., 310., 101.,\n",
              "        69., 179., 185., 118., 171., 166., 144.,  97., 168.,  68.,  49.,\n",
              "        68., 245., 184., 202., 137.,  85., 131., 283., 129.,  59., 341.,\n",
              "        87.,  65., 102., 265., 276., 252.,  90., 100.,  55.,  61.,  92.,\n",
              "       259.,  53., 190., 142.,  75., 142., 155., 225.,  59., 104., 182.,\n",
              "       128.,  52.,  37., 170., 170.,  61., 144.,  52., 128.,  71., 163.,\n",
              "       150.,  97., 160., 178.,  48., 270., 202., 111.,  85.,  42., 170.,\n",
              "       200., 252., 113., 143.,  51.,  52., 210.,  65., 141.,  55., 134.,\n",
              "        42., 111.,  98., 164.,  48.,  96.,  90., 162., 150., 279.,  92.,\n",
              "        83., 128., 102., 302., 198.,  95.,  53., 134., 144., 232.,  81.,\n",
              "       104.,  59., 246., 297., 258., 229., 275., 281., 179., 200., 200.,\n",
              "       173., 180.,  84., 121., 161.,  99., 109., 115., 268., 274., 158.,\n",
              "       107.,  83., 103., 272.,  85., 280., 336., 281., 118., 317., 235.,\n",
              "        60., 174., 259., 178., 128.,  96., 126., 288.,  88., 292.,  71.,\n",
              "       197., 186.,  25.,  84.,  96., 195.,  53., 217., 172., 131., 214.,\n",
              "        59.,  70., 220., 268., 152.,  47.,  74., 295., 101., 151., 127.,\n",
              "       237., 225.,  81., 151., 107.,  64., 138., 185., 265., 101., 137.,\n",
              "       143., 141.,  79., 292., 178.,  91., 116.,  86., 122.,  72., 129.,\n",
              "       142.,  90., 158.,  39., 196., 222., 277.,  99., 196., 202., 155.,\n",
              "        77., 191.,  70.,  73.,  49.,  65., 263., 248., 296., 214., 185.,\n",
              "        78.,  93., 252., 150.,  77., 208.,  77., 108., 160.,  53., 220.,\n",
              "       154., 259.,  90., 246., 124.,  67.,  72., 257., 262., 275., 177.,\n",
              "        71.,  47., 187., 125.,  78.,  51., 258., 215., 303., 243.,  91.,\n",
              "       150., 310., 153., 346.,  63.,  89.,  50.,  39., 103., 308., 116.,\n",
              "       145.,  74.,  45., 115., 264.,  87., 202., 127., 182., 241.,  66.,\n",
              "        94., 283.,  64., 102., 200., 265.,  94., 230., 181., 156., 233.,\n",
              "        60., 219.,  80.,  68., 332., 248.,  84., 200.,  55.,  85.,  89.,\n",
              "        31., 129.,  83., 275.,  65., 198., 236., 253., 124.,  44., 172.,\n",
              "       114., 142., 109., 180., 144., 163., 147.,  97., 220., 190., 109.,\n",
              "       191., 122., 230., 242., 248., 249., 192., 131., 237.,  78., 135.,\n",
              "       244., 199., 270., 164.,  72.,  96., 306.,  91., 214.,  95., 216.,\n",
              "       263., 178., 113., 200., 139., 139.,  88., 148.,  88., 243.,  71.,\n",
              "        77., 109., 272.,  60.,  54., 221.,  90., 311., 281., 182., 321.,\n",
              "        58., 262., 206., 233., 242., 123., 167.,  63., 197.,  71., 168.,\n",
              "       140., 217., 121., 235., 245.,  40.,  52., 104., 132.,  88.,  69.,\n",
              "       219.,  72., 201., 110.,  51., 277.,  63., 118.,  69., 273., 258.,\n",
              "        43., 198., 242., 232., 175.,  93., 168., 275., 293., 281.,  72.,\n",
              "       140., 189., 181., 209., 136., 261., 113., 131., 174., 257.,  55.,\n",
              "        84.,  42., 146., 212., 233.,  91., 111., 152., 120.,  67., 310.,\n",
              "        94., 183.,  66., 173.,  72.,  49.,  64.,  48., 178., 104., 132.,\n",
              "       220.,  57.])"
            ]
          },
          "metadata": {},
          "execution_count": 9
        }
      ]
    },
    {
      "cell_type": "code",
      "source": [
        "plt.scatter(data['data'][:, 2], data['target'])"
      ],
      "metadata": {
        "colab": {
          "base_uri": "https://localhost:8080/",
          "height": 447
        },
        "id": "YR7zb7dNRlOX",
        "outputId": "92473b44-d9b4-478e-ad96-f4fe24860265"
      },
      "execution_count": 11,
      "outputs": [
        {
          "output_type": "execute_result",
          "data": {
            "text/plain": [
              "<matplotlib.collections.PathCollection at 0x7fb3f8ac4970>"
            ]
          },
          "metadata": {},
          "execution_count": 11
        },
        {
          "output_type": "display_data",
          "data": {
            "text/plain": [
              "<Figure size 640x480 with 1 Axes>"
            ],
            "image/png": "[encoded data removed]"
          },
          "metadata": {}
        }
      ]
    },
    {
      "cell_type": "code",
      "source": [
        "plt.scatter(data['data'][:, 1], data['target'])"
      ],
      "metadata": {
        "colab": {
          "base_uri": "https://localhost:8080/",
          "height": 447
        },
        "id": "VXvOEqOmR88p",
        "outputId": "b8b56c82-8f89-40fd-82db-f58973b0c688"
      },
      "execution_count": 13,
      "outputs": [
        {
          "output_type": "execute_result",
          "data": {
            "text/plain": [
              "<matplotlib.collections.PathCollection at 0x7fb3f884c400>"
            ]
          },
          "metadata": {},
          "execution_count": 13
        },
        {
          "output_type": "display_data",
          "data": {
            "text/plain": [
              "<Figure size 640x480 with 1 Axes>"
            ],
            "image/png": "[encoded data removed]"
          },
          "metadata": {}
        }
      ]
    },
    {
      "cell_type": "code",
      "source": [
        "# linear regression"
      ],
      "metadata": {
        "id": "VWysAKgESO8V"
      },
      "execution_count": 14,
      "outputs": []
    },
    {
      "cell_type": "code",
      "source": [
        "a = data['data'][:, 2]\n",
        "y = data['target']"
      ],
      "metadata": {
        "id": "tcYTjBrwSbXz"
      },
      "execution_count": 15,
      "outputs": []
    },
    {
      "cell_type": "code",
      "source": [
        "import numpy as np"
      ],
      "metadata": {
        "id": "ph33sEmBS9Ay"
      },
      "execution_count": 18,
      "outputs": []
    },
    {
      "cell_type": "code",
      "source": [
        "a = a[:, np.newaxis]\n",
        "y = y[:, np.newaxis]"
      ],
      "metadata": {
        "id": "wmOgOFGZS2g4"
      },
      "execution_count": 19,
      "outputs": []
    },
    {
      "cell_type": "code",
      "source": [
        "a.shape, y.shape"
      ],
      "metadata": {
        "colab": {
          "base_uri": "https://localhost:8080/"
        },
        "id": "NJ2Q0HXRTA8O",
        "outputId": "aaba5030-a12a-48f8-9690-75687dc6f611"
      },
      "execution_count": 20,
      "outputs": [
        {
          "output_type": "execute_result",
          "data": {
            "text/plain": [
              "((442, 1), (442, 1))"
            ]
          },
          "metadata": {},
          "execution_count": 20
        }
      ]
    },
    {
      "cell_type": "code",
      "source": [
        "plt.scatter(a, y)"
      ],
      "metadata": {
        "colab": {
          "base_uri": "https://localhost:8080/",
          "height": 447
        },
        "id": "laR9WH7fSrM-",
        "outputId": "4037179e-52fe-42df-c64f-efaf624ed992"
      },
      "execution_count": 16,
      "outputs": [
        {
          "output_type": "execute_result",
          "data": {
            "text/plain": [
              "<matplotlib.collections.PathCollection at 0x7fb3ebbde130>"
            ]
          },
          "metadata": {},
          "execution_count": 16
        },
        {
          "output_type": "display_data",
          "data": {
            "text/plain": [
              "<Figure size 640x480 with 1 Axes>"
            ],
            "image/png": "[encoded data removed]"
          },
          "metadata": {}
        }
      ]
    },
    {
      "cell_type": "code",
      "source": [
        "def solve(a, y):\n",
        "  aa = a.T.dot(a)\n",
        "  aa_inv = np.linalg.inv(aa)\n",
        "  ay = a.T.dot(y)\n",
        "  param = aa_inv.dot(ay)\n",
        "  return param"
      ],
      "metadata": {
        "id": "4QNZppeaSuXa"
      },
      "execution_count": 30,
      "outputs": []
    },
    {
      "cell_type": "code",
      "source": [
        "param0 = solve(a, y)\n",
        "param0"
      ],
      "metadata": {
        "colab": {
          "base_uri": "https://localhost:8080/"
        },
        "id": "lz603lh7TWHn",
        "outputId": "d529ac41-28aa-4353-b5a7-e1f9b9a8a86d"
      },
      "execution_count": 31,
      "outputs": [
        {
          "output_type": "execute_result",
          "data": {
            "text/plain": [
              "array([[5.88952035]])"
            ]
          },
          "metadata": {},
          "execution_count": 31
        }
      ]
    },
    {
      "cell_type": "code",
      "source": [
        "a_new = np.column_stack([a, np.ones_like(a)]) # with intercept"
      ],
      "metadata": {
        "id": "c7DOAg_IV-TH"
      },
      "execution_count": null,
      "outputs": []
    },
    {
      "cell_type": "code",
      "source": [
        "param1 = solve(a_new, y)\n",
        "param1"
      ],
      "metadata": {
        "colab": {
          "base_uri": "https://localhost:8080/"
        },
        "id": "XLLTIJgVVdLX",
        "outputId": "45f9d265-949f-4423-8356-7705440b9f2e"
      },
      "execution_count": 33,
      "outputs": [
        {
          "output_type": "execute_result",
          "data": {
            "text/plain": [
              "array([[  10.23312787],\n",
              "       [-117.77336657]])"
            ]
          },
          "metadata": {},
          "execution_count": 33
        }
      ]
    },
    {
      "cell_type": "code",
      "source": [
        "a_g = np.linspace(10, 40)[:, np.newaxis]\n",
        "a_gnew = np.column_stack([a_g, np.ones_like(a_g)])\n",
        "\n",
        "plt.scatter(a, y)\n",
        "plt.plot(a_g, a_g.dot(param0), 'r')\n",
        "plt.plot(a_g, a_gnew.dot(param1), 'k')"
      ],
      "metadata": {
        "colab": {
          "base_uri": "https://localhost:8080/",
          "height": 447
        },
        "id": "-9yWJ5O6Tafp",
        "outputId": "65c77fb2-f948-4e75-cd5a-1e631b3d5fdd"
      },
      "execution_count": 34,
      "outputs": [
        {
          "output_type": "execute_result",
          "data": {
            "text/plain": [
              "[<matplotlib.lines.Line2D at 0x7fb3eb774220>]"
            ]
          },
          "metadata": {},
          "execution_count": 34
        },
        {
          "output_type": "display_data",
          "data": {
            "text/plain": [
              "<Figure size 640x480 with 1 Axes>"
            ],
            "image/png": "[encoded data removed]"
          },
          "metadata": {}
        }
      ]
    },
    {
      "cell_type": "code",
      "source": [
        "a_new "
      ],
      "metadata": {
        "colab": {
          "base_uri": "https://localhost:8080/"
        },
        "id": "N5q14PAfThVY",
        "outputId": "73cacf08-b055-4325-a3a7-c72519249a7f"
      },
      "execution_count": 29,
      "outputs": [
        {
          "output_type": "execute_result",
          "data": {
            "text/plain": [
              "array([[32.1,  1. ],\n",
              "       [21.6,  1. ],\n",
              "       [30.5,  1. ],\n",
              "       [25.3,  1. ],\n",
              "       [23. ,  1. ],\n",
              "       [22.6,  1. ],\n",
              "       [22. ,  1. ],\n",
              "       [26.2,  1. ],\n",
              "       [32.1,  1. ],\n",
              "       [30. ,  1. ],\n",
              "       [18.6,  1. ],\n",
              "       [28. ,  1. ],\n",
              "       [23.7,  1. ],\n",
              "       [26.2,  1. ],\n",
              "       [24. ,  1. ],\n",
              "       [24.7,  1. ],\n",
              "       [30.3,  1. ],\n",
              "       [27.5,  1. ],\n",
              "       [25.4,  1. ],\n",
              "       [24.7,  1. ],\n",
              "       [21.1,  1. ],\n",
              "       [24.3,  1. ],\n",
              "       [26. ,  1. ],\n",
              "       [32. ,  1. ],\n",
              "       [29.7,  1. ],\n",
              "       [25.2,  1. ],\n",
              "       [19.2,  1. ],\n",
              "       [31.9,  1. ],\n",
              "       [24.4,  1. ],\n",
              "       [25.8,  1. ],\n",
              "       [30.5,  1. ],\n",
              "       [20.3,  1. ],\n",
              "       [38. ,  1. ],\n",
              "       [21.7,  1. ],\n",
              "       [20.5,  1. ],\n",
              "       [23.5,  1. ],\n",
              "       [28.5,  1. ],\n",
              "       [27.4,  1. ],\n",
              "       [33. ,  1. ],\n",
              "       [27.7,  1. ],\n",
              "       [25.6,  1. ],\n",
              "       [20.1,  1. ],\n",
              "       [25.4,  1. ],\n",
              "       [24.2,  1. ],\n",
              "       [32.7,  1. ],\n",
              "       [23.1,  1. ],\n",
              "       [25.3,  1. ],\n",
              "       [19.6,  1. ],\n",
              "       [22.5,  1. ],\n",
              "       [27.7,  1. ],\n",
              "       [25.7,  1. ],\n",
              "       [27.9,  1. ],\n",
              "       [25.5,  1. ],\n",
              "       [24.9,  1. ],\n",
              "       [28.7,  1. ],\n",
              "       [21.8,  1. ],\n",
              "       [30.2,  1. ],\n",
              "       [20.5,  1. ],\n",
              "       [20.4,  1. ],\n",
              "       [24. ,  1. ],\n",
              "       [26. ,  1. ],\n",
              "       [26.8,  1. ],\n",
              "       [25.7,  1. ],\n",
              "       [22.9,  1. ],\n",
              "       [24. ,  1. ],\n",
              "       [24.1,  1. ],\n",
              "       [24.7,  1. ],\n",
              "       [25. ,  1. ],\n",
              "       [23.6,  1. ],\n",
              "       [22.1,  1. ],\n",
              "       [19.9,  1. ],\n",
              "       [29.5,  1. ],\n",
              "       [26. ,  1. ],\n",
              "       [24.5,  1. ],\n",
              "       [26.6,  1. ],\n",
              "       [23.5,  1. ],\n",
              "       [29. ,  1. ],\n",
              "       [23. ,  1. ],\n",
              "       [21. ,  1. ],\n",
              "       [22.9,  1. ],\n",
              "       [27.5,  1. ],\n",
              "       [24.3,  1. ],\n",
              "       [23.1,  1. ],\n",
              "       [27.3,  1. ],\n",
              "       [22.7,  1. ],\n",
              "       [33. ,  1. ],\n",
              "       [19.4,  1. ],\n",
              "       [25.8,  1. ],\n",
              "       [22.6,  1. ],\n",
              "       [21.9,  1. ],\n",
              "       [24. ,  1. ],\n",
              "       [31.2,  1. ],\n",
              "       [26.8,  1. ],\n",
              "       [20.4,  1. ],\n",
              "       [24.8,  1. ],\n",
              "       [21. ,  1. ],\n",
              "       [27.3,  1. ],\n",
              "       [34.6,  1. ],\n",
              "       [25.9,  1. ],\n",
              "       [20.4,  1. ],\n",
              "       [28. ,  1. ],\n",
              "       [22.2,  1. ],\n",
              "       [29. ,  1. ],\n",
              "       [30.2,  1. ],\n",
              "       [32.4,  1. ],\n",
              "       [23.4,  1. ],\n",
              "       [19.3,  1. ],\n",
              "       [31. ,  1. ],\n",
              "       [30.6,  1. ],\n",
              "       [25.5,  1. ],\n",
              "       [23.4,  1. ],\n",
              "       [26.8,  1. ],\n",
              "       [28.3,  1. ],\n",
              "       [27.7,  1. ],\n",
              "       [36.6,  1. ],\n",
              "       [26.5,  1. ],\n",
              "       [31.8,  1. ],\n",
              "       [24.4,  1. ],\n",
              "       [25.4,  1. ],\n",
              "       [22. ,  1. ],\n",
              "       [26.8,  1. ],\n",
              "       [28. ,  1. ],\n",
              "       [33.9,  1. ],\n",
              "       [29.6,  1. ],\n",
              "       [28.6,  1. ],\n",
              "       [25.6,  1. ],\n",
              "       [20.7,  1. ],\n",
              "       [26.2,  1. ],\n",
              "       [20.6,  1. ],\n",
              "       [27.9,  1. ],\n",
              "       [35.3,  1. ],\n",
              "       [19.9,  1. ],\n",
              "       [24.4,  1. ],\n",
              "       [21.4,  1. ],\n",
              "       [30.4,  1. ],\n",
              "       [31.6,  1. ],\n",
              "       [18.8,  1. ],\n",
              "       [31. ,  1. ],\n",
              "       [36.7,  1. ],\n",
              "       [32.1,  1. ],\n",
              "       [27.7,  1. ],\n",
              "       [30.8,  1. ],\n",
              "       [27.5,  1. ],\n",
              "       [26.9,  1. ],\n",
              "       [30.7,  1. ],\n",
              "       [38.3,  1. ],\n",
              "       [31.9,  1. ],\n",
              "       [35. ,  1. ],\n",
              "       [27.8,  1. ],\n",
              "       [25.9,  1. ],\n",
              "       [32.9,  1. ],\n",
              "       [26. ,  1. ],\n",
              "       [26.3,  1. ],\n",
              "       [22.3,  1. ],\n",
              "       [28.3,  1. ],\n",
              "       [32. ,  1. ],\n",
              "       [25.4,  1. ],\n",
              "       [23.3,  1. ],\n",
              "       [20.3,  1. ],\n",
              "       [30.4,  1. ],\n",
              "       [20.6,  1. ],\n",
              "       [32.3,  1. ],\n",
              "       [29.2,  1. ],\n",
              "       [33.1,  1. ],\n",
              "       [24.6,  1. ],\n",
              "       [20.2,  1. ],\n",
              "       [20.8,  1. ],\n",
              "       [32.8,  1. ],\n",
              "       [31.9,  1. ],\n",
              "       [23.9,  1. ],\n",
              "       [24.5,  1. ],\n",
              "       [22.1,  1. ],\n",
              "       [33. ,  1. ],\n",
              "       [19. ,  1. ],\n",
              "       [27.3,  1. ],\n",
              "       [22.8,  1. ],\n",
              "       [28.2,  1. ],\n",
              "       [28.9,  1. ],\n",
              "       [25.6,  1. ],\n",
              "       [24.9,  1. ],\n",
              "       [26.8,  1. ],\n",
              "       [22.4,  1. ],\n",
              "       [26.9,  1. ],\n",
              "       [23.1,  1. ],\n",
              "       [28.6,  1. ],\n",
              "       [24.7,  1. ],\n",
              "       [30.3,  1. ],\n",
              "       [21.3,  1. ],\n",
              "       [26.1,  1. ],\n",
              "       [20.2,  1. ],\n",
              "       [25.2,  1. ],\n",
              "       [22.5,  1. ],\n",
              "       [23.5,  1. ],\n",
              "       [25.9,  1. ],\n",
              "       [20.9,  1. ],\n",
              "       [28.7,  1. ],\n",
              "       [22.1,  1. ],\n",
              "       [26.7,  1. ],\n",
              "       [31.4,  1. ],\n",
              "       [22.2,  1. ],\n",
              "       [21. ,  1. ],\n",
              "       [21.2,  1. ],\n",
              "       [26.5,  1. ],\n",
              "       [29.2,  1. ],\n",
              "       [27. ,  1. ],\n",
              "       [30.7,  1. ],\n",
              "       [28.8,  1. ],\n",
              "       [30.6,  1. ],\n",
              "       [30.1,  1. ],\n",
              "       [24.7,  1. ],\n",
              "       [27.7,  1. ],\n",
              "       [29.8,  1. ],\n",
              "       [26.7,  1. ],\n",
              "       [19.8,  1. ],\n",
              "       [23.3,  1. ],\n",
              "       [35.1,  1. ],\n",
              "       [29.7,  1. ],\n",
              "       [29.3,  1. ],\n",
              "       [20.3,  1. ],\n",
              "       [22.5,  1. ],\n",
              "       [22.7,  1. ],\n",
              "       [22.8,  1. ],\n",
              "       [24. ,  1. ],\n",
              "       [24.2,  1. ],\n",
              "       [20.2,  1. ],\n",
              "       [29.4,  1. ],\n",
              "       [22.1,  1. ],\n",
              "       [23.6,  1. ],\n",
              "       [25.2,  1. ],\n",
              "       [24.9,  1. ],\n",
              "       [33. ,  1. ],\n",
              "       [23.5,  1. ],\n",
              "       [26.4,  1. ],\n",
              "       [29.8,  1. ],\n",
              "       [30. ,  1. ],\n",
              "       [25. ,  1. ],\n",
              "       [27. ,  1. ],\n",
              "       [20. ,  1. ],\n",
              "       [25.5,  1. ],\n",
              "       [28.2,  1. ],\n",
              "       [33.3,  1. ],\n",
              "       [25.6,  1. ],\n",
              "       [24.2,  1. ],\n",
              "       [22.1,  1. ],\n",
              "       [31.4,  1. ],\n",
              "       [23.1,  1. ],\n",
              "       [23.4,  1. ],\n",
              "       [18.8,  1. ],\n",
              "       [30.8,  1. ],\n",
              "       [32. ,  1. ],\n",
              "       [31.6,  1. ],\n",
              "       [35.5,  1. ],\n",
              "       [31.9,  1. ],\n",
              "       [29.5,  1. ],\n",
              "       [31.6,  1. ],\n",
              "       [20.3,  1. ],\n",
              "       [41.3,  1. ],\n",
              "       [21.2,  1. ],\n",
              "       [24.1,  1. ],\n",
              "       [23. ,  1. ],\n",
              "       [25.6,  1. ],\n",
              "       [22.5,  1. ],\n",
              "       [38.2,  1. ],\n",
              "       [19.2,  1. ],\n",
              "       [29. ,  1. ],\n",
              "       [24. ,  1. ],\n",
              "       [20.6,  1. ],\n",
              "       [26.3,  1. ],\n",
              "       [34.6,  1. ],\n",
              "       [23.4,  1. ],\n",
              "       [29.2,  1. ],\n",
              "       [27.2,  1. ],\n",
              "       [27. ,  1. ],\n",
              "       [24.5,  1. ],\n",
              "       [24.1,  1. ],\n",
              "       [25.3,  1. ],\n",
              "       [28.8,  1. ],\n",
              "       [20.9,  1. ],\n",
              "       [23. ,  1. ],\n",
              "       [24.1,  1. ],\n",
              "       [28.1,  1. ],\n",
              "       [18. ,  1. ],\n",
              "       [25.9,  1. ],\n",
              "       [21.5,  1. ],\n",
              "       [24.3,  1. ],\n",
              "       [24.5,  1. ],\n",
              "       [21.3,  1. ],\n",
              "       [25.8,  1. ],\n",
              "       [24.8,  1. ],\n",
              "       [31.5,  1. ],\n",
              "       [33.5,  1. ],\n",
              "       [28.1,  1. ],\n",
              "       [24.3,  1. ],\n",
              "       [35. ,  1. ],\n",
              "       [23.5,  1. ],\n",
              "       [30. ,  1. ],\n",
              "       [20.7,  1. ],\n",
              "       [25.6,  1. ],\n",
              "       [22.9,  1. ],\n",
              "       [25.1,  1. ],\n",
              "       [33.2,  1. ],\n",
              "       [24.1,  1. ],\n",
              "       [29.5,  1. ],\n",
              "       [29.6,  1. ],\n",
              "       [22.8,  1. ],\n",
              "       [22.7,  1. ],\n",
              "       [26.2,  1. ],\n",
              "       [23.5,  1. ],\n",
              "       [22.1,  1. ],\n",
              "       [26.5,  1. ],\n",
              "       [32.4,  1. ],\n",
              "       [30.1,  1. ],\n",
              "       [24.2,  1. ],\n",
              "       [31.3,  1. ],\n",
              "       [30.1,  1. ],\n",
              "       [24.5,  1. ],\n",
              "       [27.7,  1. ],\n",
              "       [23.2,  1. ],\n",
              "       [27. ,  1. ],\n",
              "       [26.8,  1. ],\n",
              "       [29.2,  1. ],\n",
              "       [31.2,  1. ],\n",
              "       [32.1,  1. ],\n",
              "       [25.7,  1. ],\n",
              "       [26.9,  1. ],\n",
              "       [31.4,  1. ],\n",
              "       [25.6,  1. ],\n",
              "       [37. ,  1. ],\n",
              "       [32.6,  1. ],\n",
              "       [21.2,  1. ],\n",
              "       [29.2,  1. ],\n",
              "       [24. ,  1. ],\n",
              "       [36.1,  1. ],\n",
              "       [25.8,  1. ],\n",
              "       [22. ,  1. ],\n",
              "       [21.9,  1. ],\n",
              "       [34.3,  1. ],\n",
              "       [25.2,  1. ],\n",
              "       [23.3,  1. ],\n",
              "       [25.7,  1. ],\n",
              "       [25.1,  1. ],\n",
              "       [31.9,  1. ],\n",
              "       [28.4,  1. ],\n",
              "       [28.1,  1. ],\n",
              "       [25.3,  1. ],\n",
              "       [26.1,  1. ],\n",
              "       [28. ,  1. ],\n",
              "       [23.6,  1. ],\n",
              "       [24.5,  1. ],\n",
              "       [21. ,  1. ],\n",
              "       [32. ,  1. ],\n",
              "       [22.6,  1. ],\n",
              "       [19.7,  1. ],\n",
              "       [21.2,  1. ],\n",
              "       [30.6,  1. ],\n",
              "       [25.5,  1. ],\n",
              "       [23.3,  1. ],\n",
              "       [31. ,  1. ],\n",
              "       [18.5,  1. ],\n",
              "       [26.9,  1. ],\n",
              "       [28.3,  1. ],\n",
              "       [25.7,  1. ],\n",
              "       [36.1,  1. ],\n",
              "       [24.1,  1. ],\n",
              "       [25.8,  1. ],\n",
              "       [22.8,  1. ],\n",
              "       [39.1,  1. ],\n",
              "       [42.2,  1. ],\n",
              "       [26.6,  1. ],\n",
              "       [29.9,  1. ],\n",
              "       [21. ,  1. ],\n",
              "       [25.5,  1. ],\n",
              "       [24.2,  1. ],\n",
              "       [25.4,  1. ],\n",
              "       [23.2,  1. ],\n",
              "       [26.1,  1. ],\n",
              "       [32.7,  1. ],\n",
              "       [27.3,  1. ],\n",
              "       [26.6,  1. ],\n",
              "       [22.8,  1. ],\n",
              "       [28.8,  1. ],\n",
              "       [18.1,  1. ],\n",
              "       [32. ,  1. ],\n",
              "       [23.7,  1. ],\n",
              "       [23.6,  1. ],\n",
              "       [24.6,  1. ],\n",
              "       [22.6,  1. ],\n",
              "       [27.8,  1. ],\n",
              "       [24.1,  1. ],\n",
              "       [26.5,  1. ],\n",
              "       [32.8,  1. ],\n",
              "       [19.9,  1. ],\n",
              "       [23.6,  1. ],\n",
              "       [22.1,  1. ],\n",
              "       [28.1,  1. ],\n",
              "       [26.5,  1. ],\n",
              "       [23.5,  1. ],\n",
              "       [26. ,  1. ],\n",
              "       [27.8,  1. ],\n",
              "       [28.5,  1. ],\n",
              "       [30.6,  1. ],\n",
              "       [22.2,  1. ],\n",
              "       [23.3,  1. ],\n",
              "       [35.4,  1. ],\n",
              "       [31.4,  1. ],\n",
              "       [37.8,  1. ],\n",
              "       [18.9,  1. ],\n",
              "       [35. ,  1. ],\n",
              "       [21.7,  1. ],\n",
              "       [25.3,  1. ],\n",
              "       [23.8,  1. ],\n",
              "       [31.8,  1. ],\n",
              "       [34.3,  1. ],\n",
              "       [26.3,  1. ],\n",
              "       [27. ,  1. ],\n",
              "       [27.2,  1. ],\n",
              "       [33.8,  1. ],\n",
              "       [33. ,  1. ],\n",
              "       [24.1,  1. ],\n",
              "       [21.3,  1. ],\n",
              "       [23. ,  1. ],\n",
              "       [27.9,  1. ],\n",
              "       [33.6,  1. ],\n",
              "       [22.7,  1. ],\n",
              "       [27.4,  1. ],\n",
              "       [22.6,  1. ],\n",
              "       [23.2,  1. ],\n",
              "       [26.9,  1. ],\n",
              "       [34.6,  1. ],\n",
              "       [23.3,  1. ],\n",
              "       [21.1,  1. ],\n",
              "       [23.5,  1. ],\n",
              "       [31.5,  1. ],\n",
              "       [20.8,  1. ],\n",
              "       [26.5,  1. ],\n",
              "       [24.2,  1. ],\n",
              "       [19.5,  1. ],\n",
              "       [28.2,  1. ],\n",
              "       [24.9,  1. ],\n",
              "       [24.9,  1. ],\n",
              "       [30. ,  1. ],\n",
              "       [19.6,  1. ]])"
            ]
          },
          "metadata": {},
          "execution_count": 29
        }
      ]
    },
    {
      "cell_type": "code",
      "source": [],
      "metadata": {
        "id": "WYHLATkBVAxL"
      },
      "execution_count": null,
      "outputs": []
    }
  ]
}